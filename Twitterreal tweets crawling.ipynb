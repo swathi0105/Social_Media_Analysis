{
 "cells": [
  {
   "cell_type": "markdown",
   "metadata": {},
   "source": [
    "# Lab 1. Real time crawling of tweets from Twitter and creating a network of user mentions"
   ]
  },
  {
   "cell_type": "markdown",
   "metadata": {},
   "source": [
    "### Step 1: Install and import tweepy library"
   ]
  },
  {
   "cell_type": "code",
   "execution_count": 23,
   "metadata": {},
   "outputs": [],
   "source": [
    "import os\n",
    "import tweepy as tw\n",
    "import pandas as pd"
   ]
  },
  {
   "cell_type": "markdown",
   "metadata": {},
   "source": [
    "### Step 2: Sign up your twitter developer account and obtain the following credentials (https://developer.twitter.com/en)¶"
   ]
  },
  {
   "cell_type": "code",
   "execution_count": 24,
   "metadata": {},
   "outputs": [],
   "source": [
    "consumer_key= \"7yLjajg6lLMMe2bbbEF6Ktfc2\"\n",
    "consumer_secret= 'UJh95nM6mDd5gXeWykSavgpC0Wa26C1KxQQooocJwL9EA3dpYs'\n",
    "access_token= '1552133988893962240-DanT0Dh3x9Hfd5siFhR9JeCAecUrpq'\n",
    "access_token_secret= 'GvnDbnQlMA6VCX20yQHgOiqUuFc4KQpQmLsXEMplMlVlh'"
   ]
  },
  {
   "cell_type": "markdown",
   "metadata": {},
   "source": [
    "### Step 3: Using the above credentials get yourself authorized to stream real time tweets using the code snippet below"
   ]
  },
  {
   "cell_type": "code",
   "execution_count": 25,
   "metadata": {},
   "outputs": [],
   "source": [
    "auth = tw.OAuthHandler(consumer_key, consumer_secret)\n",
    "auth.set_access_token(access_token, access_token_secret)\n",
    "api = tw.API(auth,wait_on_rate_limit=True)"
   ]
  },
  {
   "cell_type": "code",
   "execution_count": 26,
   "metadata": {},
   "outputs": [],
   "source": [
    "MY_BEARER_TOKEN = \"AAAAAAAAAAAAAAAAAAAAAHgYfQEAAAAAf81mN3BgkfJemyfBH0PudataXdE%3DKv43FsPh9Z0K9zpay5qcoED9Jq1ys3OC7FckYHKKpcXXtHwbMX\"\n",
    "\n",
    "# create your client\n",
    "client = tw.Client(bearer_token=MY_BEARER_TOKEN)"
   ]
  },
  {
   "cell_type": "code",
   "execution_count": 29,
   "metadata": {},
   "outputs": [],
   "source": [
    "# query to search for tweets\n",
    "query = \"#Thunivu\"\n",
    "\n",
    "\n",
    "# get tweets from the API\n",
    "tweets = client.search_recent_tweets(query=query,\n",
    "                                     tweet_fields = [\"created_at\", \"text\", \"source\"],\n",
    "                                     user_fields = [\"name\", \"username\", \"location\", \"verified\", \"description\"],\n",
    "                                     max_results = 10,\n",
    "                                     expansions='author_id'\n",
    "                                     )"
   ]
  },
  {
   "cell_type": "code",
   "execution_count": 30,
   "metadata": {},
   "outputs": [
    {
     "data": {
      "text/plain": [
       "Response(data=[<Tweet id=1587655646371274752 text='RT @ONLINE_DAFC: #AjithKumar #Thunivu 🥵💯\\n\\nhttps://t.co/nGEybRYzLH'>, <Tweet id=1587655644878082049 text='RT @AFC__Dindigul: Man of humbleness ❤️ #AjithKumar !!\\n\\nGood Morning Ak Devotees ❤️\\u200d🔥\\n\\n#Thunivu #ThunivuPongal https://t.co/wsvRNolpMb'>, <Tweet id=1587655644718706688 text='RT @iamdines19: Where is Endhiran movie.. Not in the list 🧐🧐🧐top 50 list la ilaya🧐\\n\\nSo comscore is also fake? \\n\\n#Thunivu #ThunivuPongal #Aj…'>, <Tweet id=1587655640125964288 text='RT @HVinothDirector: King arrived very very  soon 🔥🔥\\n#ThunivuPongal\\n#Thunivu'>, <Tweet id=1587655639782019072 text='RT @iam_Prabastark: He is the hero and he is the villain ‼️ \\n\\n#ThunivuPongal #Thunivu #Ajithkumar https://t.co/9VwmbyJwdT'>, <Tweet id=1587655637248638976 text='RT @BLSTG: Only way for #Thunivu to beat #Varisu in Overseas :\\n\\n#Thunivu needs to get highly positive WOM and #Varisu to get disaster WOM..…'>, <Tweet id=1587655623067549696 text='RT @ThalaFansUniv: EXCLUSIVE :- 💫 \\n\\nDirector @Psmithran Sir About Our #AjithKumar Sir.\\n\\nI Really Want #Ajith Sir To Do The Film. I Will Do…'>, <Tweet id=1587655622597963776 text='RT @VALIMAI_PANDEES: Edit pannum poothe seriyana goosebumps 🥺 🔥 \\n\\n\" THALA ALWAYS SPECIAL \"\\n\\n#Thunivu #AjithKumar https://t.co/MSq0237m6m'>, <Tweet id=1587655622291783680 text='RT @aravinth43AK: Overseas la தமிழ்சினிமா பெஸ்ட் கலெக்சன் \\n விவேகம் .\\nஇதுவரை எவனும் கிட்ட நெருங்ககக்கூட இல்லை....💥💥💥\\n\\n#Thunivu\\n#Thala https…'>, <Tweet id=1587655622048509954 text='RT @ONLINE_DAFC: மக்கள் தலைவன் ❤💯\\n\\n#AjithKumar #Thunivu https://t.co/rnUjsqcbb8'>], includes={'users': [<User id=895698307648966656 name=𝘉𝘏ム𝘙ム𝘛𝘏 username=iam_aj_ironman>, <User id=951086025228484608 name=கார்த்திக் username=Karthik_off01>, <User id=1089405987616739328 name=கடல்தானை🤴𓃵 username=Murali_speaks>, <User id=1565043350939795457 name=𝐌𝐚𝐫𝐢𝐚♪ username=itz_MariaAK92>, <User id=1532229438741659652 name=S Naveen kumar Thala ajith username=naveen_thank>, <User id=1173890284742008832 name=ⓃⓐⓃⓓⒽⓤ username=NaNdHu25663370>, <User id=1055708911452516352 name=Un(ලකි)lucky ☠︎︎ username=itsurUsham>, <User id=1572936702259503106 name=thala veriyan💥😈🤫 username=Vishwa_Ajith143>, <User id=1379119233972400132 name=அடங்காத அஜித் குருப்ஸ்-வத்(தல)க்குண்டு username=AAG_bloods>]}, errors=[], meta={'newest_id': '1587655646371274752', 'oldest_id': '1587655622048509954', 'result_count': 10, 'next_token': 'b26v89c19zqg8o3fpzeme6lm1rxgbr1g4w4zrdqvrlrb1'})"
      ]
     },
     "execution_count": 30,
     "metadata": {},
     "output_type": "execute_result"
    }
   ],
   "source": [
    "tweets"
   ]
  },
  {
   "cell_type": "markdown",
   "metadata": {},
   "source": [
    "### Step 4: Using the API object search tweets of your interest using a particular hashtag"
   ]
  },
  {
   "cell_type": "code",
   "execution_count": 31,
   "metadata": {},
   "outputs": [
    {
     "data": {
      "text/html": [
       "<div>\n",
       "<style scoped>\n",
       "    .dataframe tbody tr th:only-of-type {\n",
       "        vertical-align: middle;\n",
       "    }\n",
       "\n",
       "    .dataframe tbody tr th {\n",
       "        vertical-align: top;\n",
       "    }\n",
       "\n",
       "    .dataframe thead th {\n",
       "        text-align: right;\n",
       "    }\n",
       "</style>\n",
       "<table border=\"1\" class=\"dataframe\">\n",
       "  <thead>\n",
       "    <tr style=\"text-align: right;\">\n",
       "      <th></th>\n",
       "      <th>created_at</th>\n",
       "      <th>text</th>\n",
       "      <th>source</th>\n",
       "      <th>name</th>\n",
       "      <th>username</th>\n",
       "      <th>location</th>\n",
       "      <th>verified</th>\n",
       "      <th>description</th>\n",
       "    </tr>\n",
       "  </thead>\n",
       "  <tbody>\n",
       "    <tr>\n",
       "      <th>0</th>\n",
       "      <td>2022-11-02 03:59:37+00:00</td>\n",
       "      <td>RT @ONLINE_DAFC: #AjithKumar #Thunivu 🥵💯\\n\\nht...</td>\n",
       "      <td>Twitter for Android</td>\n",
       "      <td>𝘉𝘏ム𝘙ム𝘛𝘏</td>\n",
       "      <td>iam_aj_ironman</td>\n",
       "      <td>Miss U Appa 💔</td>\n",
       "      <td>False</td>\n",
       "      <td>🅱🅴🄻🄸🄴🅅🄴 🄸🄽 🆈🅾🆄🅁🅂🄴🄻🄵       \\n    ♦️ eɴɴαм pol v...</td>\n",
       "    </tr>\n",
       "    <tr>\n",
       "      <th>1</th>\n",
       "      <td>2022-11-02 03:59:37+00:00</td>\n",
       "      <td>RT @AFC__Dindigul: Man of humbleness ❤️ #Ajith...</td>\n",
       "      <td>Twitter for Android</td>\n",
       "      <td>கார்த்திக்</td>\n",
       "      <td>Karthik_off01</td>\n",
       "      <td>Dindigul, India</td>\n",
       "      <td>False</td>\n",
       "      <td>To grow everyday, learn everyday.</td>\n",
       "    </tr>\n",
       "    <tr>\n",
       "      <th>2</th>\n",
       "      <td>2022-11-02 03:59:37+00:00</td>\n",
       "      <td>RT @iamdines19: Where is Endhiran movie.. Not ...</td>\n",
       "      <td>Twitter Web App</td>\n",
       "      <td>கடல்தானை🤴𓃵</td>\n",
       "      <td>Murali_speaks</td>\n",
       "      <td>None</td>\n",
       "      <td>False</td>\n",
       "      <td>Old accnt @murali_unoffl\\n#என்றும்_தலஅஜித்\\n#க...</td>\n",
       "    </tr>\n",
       "    <tr>\n",
       "      <th>3</th>\n",
       "      <td>2022-11-02 03:59:36+00:00</td>\n",
       "      <td>RT @HVinothDirector: King arrived very very  s...</td>\n",
       "      <td>Twitter for Android</td>\n",
       "      <td>𝐌𝐚𝐫𝐢𝐚♪</td>\n",
       "      <td>itz_MariaAK92</td>\n",
       "      <td>None</td>\n",
       "      <td>False</td>\n",
       "      <td></td>\n",
       "    </tr>\n",
       "    <tr>\n",
       "      <th>4</th>\n",
       "      <td>2022-11-02 03:59:36+00:00</td>\n",
       "      <td>RT @iam_Prabastark: He is the hero and he is t...</td>\n",
       "      <td>Twitter for Android</td>\n",
       "      <td>S Naveen kumar Thala ajith</td>\n",
       "      <td>naveen_thank</td>\n",
       "      <td>None</td>\n",
       "      <td>False</td>\n",
       "      <td>I like reading Rajesh Kumar novel</td>\n",
       "    </tr>\n",
       "  </tbody>\n",
       "</table>\n",
       "</div>"
      ],
      "text/plain": [
       "                 created_at  \\\n",
       "0 2022-11-02 03:59:37+00:00   \n",
       "1 2022-11-02 03:59:37+00:00   \n",
       "2 2022-11-02 03:59:37+00:00   \n",
       "3 2022-11-02 03:59:36+00:00   \n",
       "4 2022-11-02 03:59:36+00:00   \n",
       "\n",
       "                                                text               source  \\\n",
       "0  RT @ONLINE_DAFC: #AjithKumar #Thunivu 🥵💯\\n\\nht...  Twitter for Android   \n",
       "1  RT @AFC__Dindigul: Man of humbleness ❤️ #Ajith...  Twitter for Android   \n",
       "2  RT @iamdines19: Where is Endhiran movie.. Not ...      Twitter Web App   \n",
       "3  RT @HVinothDirector: King arrived very very  s...  Twitter for Android   \n",
       "4  RT @iam_Prabastark: He is the hero and he is t...  Twitter for Android   \n",
       "\n",
       "                         name        username         location  verified  \\\n",
       "0                     𝘉𝘏ム𝘙ム𝘛𝘏  iam_aj_ironman    Miss U Appa 💔     False   \n",
       "1                  கார்த்திக்   Karthik_off01  Dindigul, India     False   \n",
       "2                  கடல்தானை🤴𓃵   Murali_speaks             None     False   \n",
       "3                      𝐌𝐚𝐫𝐢𝐚♪   itz_MariaAK92             None     False   \n",
       "4  S Naveen kumar Thala ajith    naveen_thank             None     False   \n",
       "\n",
       "                                         description  \n",
       "0  🅱🅴🄻🄸🄴🅅🄴 🄸🄽 🆈🅾🆄🅁🅂🄴🄻🄵       \\n    ♦️ eɴɴαм pol v...  \n",
       "1                  To grow everyday, learn everyday.  \n",
       "2  Old accnt @murali_unoffl\\n#என்றும்_தலஅஜித்\\n#க...  \n",
       "3                                                     \n",
       "4                  I like reading Rajesh Kumar novel  "
      ]
     },
     "execution_count": 31,
     "metadata": {},
     "output_type": "execute_result"
    }
   ],
   "source": [
    "import pandas as pd\n",
    "# create a list of records\n",
    "tweet_info_ls = []\n",
    "# iterate over each tweet and corresponding user details\n",
    "for tweet, user in zip(tweets.data, tweets.includes['users']):\n",
    "    tweet_info = {\n",
    "        'created_at': tweet.created_at,\n",
    "        'text': tweet.text,\n",
    "        'source': tweet.source,\n",
    "        'name': user.name,\n",
    "        'username': user.username,\n",
    "        'location': user.location,\n",
    "        'verified': user.verified,\n",
    "        'description': user.description\n",
    "    }\n",
    "    tweet_info_ls.append(tweet_info)\n",
    "# create dataframe from the extracted records\n",
    "tweets_df = pd.DataFrame(tweet_info_ls)\n",
    "# display the dataframe\n",
    "tweets_df.head()"
   ]
  },
  {
   "cell_type": "markdown",
   "metadata": {},
   "source": [
    "### Step 6: Import the networkx package"
   ]
  },
  {
   "cell_type": "code",
   "execution_count": 32,
   "metadata": {},
   "outputs": [],
   "source": [
    "import networkx as nx"
   ]
  },
  {
   "cell_type": "markdown",
   "metadata": {},
   "source": [
    "### Step 7: First create a basic network with few nodes and edges"
   ]
  },
  {
   "cell_type": "code",
   "execution_count": 33,
   "metadata": {},
   "outputs": [
    {
     "data": {
      "text/plain": [
       "NodeView(('A', 'B'))"
      ]
     },
     "execution_count": 33,
     "metadata": {},
     "output_type": "execute_result"
    }
   ],
   "source": [
    "G= nx.Graph()\n",
    "G.add_nodes_from([\"A\",\"B\"])\n",
    "G.add_edge('A',\"B\")\n",
    "G.nodes()"
   ]
  },
  {
   "cell_type": "code",
   "execution_count": 34,
   "metadata": {},
   "outputs": [],
   "source": [
    "G.nodes['A']['Age']=21\n",
    "G.nodes['B']['Age']=22\n",
    "G.edges['A','B']['Friendship']= '2019/04/21'"
   ]
  },
  {
   "cell_type": "code",
   "execution_count": 35,
   "metadata": {},
   "outputs": [
    {
     "data": {
      "text/plain": [
       "NodeDataView({'A': {'Age': 21}, 'B': {'Age': 22}})"
      ]
     },
     "execution_count": 35,
     "metadata": {},
     "output_type": "execute_result"
    }
   ],
   "source": [
    "G.nodes(data=True)"
   ]
  },
  {
   "cell_type": "code",
   "execution_count": 36,
   "metadata": {},
   "outputs": [
    {
     "data": {
      "text/plain": [
       "EdgeView([('A', 'B'), (1, 2)])"
      ]
     },
     "execution_count": 36,
     "metadata": {},
     "output_type": "execute_result"
    }
   ],
   "source": [
    "G.add_edge(1, 2)\n",
    "G.edges()"
   ]
  },
  {
   "cell_type": "code",
   "execution_count": 37,
   "metadata": {},
   "outputs": [
    {
     "data": {
      "text/plain": [
       "EdgeDataView([('A', 'B', {'Friendship': '2019/04/21'}), (1, 2, {})])"
      ]
     },
     "execution_count": 37,
     "metadata": {},
     "output_type": "execute_result"
    }
   ],
   "source": [
    "G.edges(data= True)"
   ]
  },
  {
   "cell_type": "code",
   "execution_count": 38,
   "metadata": {},
   "outputs": [],
   "source": [
    "eg=[(1,2),(1,3),(1,4),(1,5),(1,6)]\n",
    "H=nx.Graph(eg)"
   ]
  },
  {
   "cell_type": "code",
   "execution_count": 39,
   "metadata": {},
   "outputs": [
    {
     "data": {
      "image/png": "[encoded data removed]",
      "text/plain": [
       "<Figure size 432x288 with 1 Axes>"
      ]
     },
     "metadata": {},
     "output_type": "display_data"
    }
   ],
   "source": [
    "nx.draw(H)"
   ]
  },
  {
   "cell_type": "code",
   "execution_count": null,
   "metadata": {},
   "outputs": [],
   "source": []
  },
  {
   "cell_type": "code",
   "execution_count": null,
   "metadata": {},
   "outputs": [],
   "source": []
  },
  {
   "cell_type": "code",
   "execution_count": null,
   "metadata": {},
   "outputs": [],
   "source": []
  },
  {
   "cell_type": "code",
   "execution_count": null,
   "metadata": {},
   "outputs": [],
   "source": []
  },
  {
   "cell_type": "code",
   "execution_count": null,
   "metadata": {},
   "outputs": [],
   "source": []
  }
 ],
 "metadata": {
  "kernelspec": {
   "display_name": "Python 3 (ipykernel)",
   "language": "python",
   "name": "python3"
  },
  "language_info": {
   "codemirror_mode": {
    "name": "ipython",
    "version": 3
   },
   "file_extension": ".py",
   "mimetype": "text/x-python",
   "name": "python",
   "nbconvert_exporter": "python",
   "pygments_lexer": "ipython3",
   "version": "3.9.7"
  }
 },
 "nbformat": 4,
 "nbformat_minor": 2
}
